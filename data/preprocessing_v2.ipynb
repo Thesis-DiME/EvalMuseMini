{
 "cells": [
  {
   "cell_type": "markdown",
   "metadata": {},
   "source": [
    "# Test set exploration\n",
    "This notebook explores test set of benchmark EvalMuse-40K"
   ]
  },
  {
   "cell_type": "code",
   "execution_count": null,
   "metadata": {},
   "outputs": [
    {
     "data": {
      "text/html": [
       "<div>\n",
       "<style scoped>\n",
       "    .dataframe tbody tr th:only-of-type {\n",
       "        vertical-align: middle;\n",
       "    }\n",
       "\n",
       "    .dataframe tbody tr th {\n",
       "        vertical-align: top;\n",
       "    }\n",
       "\n",
       "    .dataframe thead th {\n",
       "        text-align: right;\n",
       "    }\n",
       "</style>\n",
       "<table border=\"1\" class=\"dataframe\">\n",
       "  <thead>\n",
       "    <tr style=\"text-align: right;\">\n",
       "      <th></th>\n",
       "      <th>prompt_id</th>\n",
       "      <th>prompt</th>\n",
       "      <th>type</th>\n",
       "      <th>img_path</th>\n",
       "      <th>total_score</th>\n",
       "      <th>element_score</th>\n",
       "      <th>promt_meaningless</th>\n",
       "      <th>split_confidence</th>\n",
       "      <th>attribute_confidence</th>\n",
       "      <th>fidelity_label</th>\n",
       "    </tr>\n",
       "  </thead>\n",
       "  <tbody>\n",
       "    <tr>\n",
       "      <th>0</th>\n",
       "      <td>805</td>\n",
       "      <td>attack of the pig giants, giant pigs, illustra...</td>\n",
       "      <td>real</td>\n",
       "      <td>SDXL-Turbo/00805.png</td>\n",
       "      <td>NaN</td>\n",
       "      <td>{'pig giants (animal)': None, 'attack (activit...</td>\n",
       "      <td>0.0</td>\n",
       "      <td>0.000000</td>\n",
       "      <td>0.333333</td>\n",
       "      <td>NaN</td>\n",
       "    </tr>\n",
       "    <tr>\n",
       "      <th>1</th>\n",
       "      <td>805</td>\n",
       "      <td>attack of the pig giants, giant pigs, illustra...</td>\n",
       "      <td>real</td>\n",
       "      <td>Playground_v2.5/00805.png</td>\n",
       "      <td>NaN</td>\n",
       "      <td>{'pig giants (animal)': None, 'attack (activit...</td>\n",
       "      <td>0.0</td>\n",
       "      <td>0.166667</td>\n",
       "      <td>0.166667</td>\n",
       "      <td>NaN</td>\n",
       "    </tr>\n",
       "    <tr>\n",
       "      <th>2</th>\n",
       "      <td>805</td>\n",
       "      <td>attack of the pig giants, giant pigs, illustra...</td>\n",
       "      <td>real</td>\n",
       "      <td>Kandinsky3/00805.png</td>\n",
       "      <td>NaN</td>\n",
       "      <td>{'pig giants (animal)': None, 'attack (activit...</td>\n",
       "      <td>0.0</td>\n",
       "      <td>0.333333</td>\n",
       "      <td>0.333333</td>\n",
       "      <td>NaN</td>\n",
       "    </tr>\n",
       "    <tr>\n",
       "      <th>3</th>\n",
       "      <td>805</td>\n",
       "      <td>attack of the pig giants, giant pigs, illustra...</td>\n",
       "      <td>real</td>\n",
       "      <td>PixArt-Sigma/00805.png</td>\n",
       "      <td>NaN</td>\n",
       "      <td>{'pig giants (animal)': None, 'attack (activit...</td>\n",
       "      <td>0.0</td>\n",
       "      <td>0.333333</td>\n",
       "      <td>0.000000</td>\n",
       "      <td>NaN</td>\n",
       "    </tr>\n",
       "    <tr>\n",
       "      <th>4</th>\n",
       "      <td>805</td>\n",
       "      <td>attack of the pig giants, giant pigs, illustra...</td>\n",
       "      <td>real</td>\n",
       "      <td>PixArt-alpha/00805.png</td>\n",
       "      <td>NaN</td>\n",
       "      <td>{'pig giants (animal)': None, 'attack (activit...</td>\n",
       "      <td>0.0</td>\n",
       "      <td>0.666667</td>\n",
       "      <td>0.333333</td>\n",
       "      <td>NaN</td>\n",
       "    </tr>\n",
       "  </tbody>\n",
       "</table>\n",
       "</div>"
      ],
      "text/plain": [
       "   prompt_id                                             prompt  type  \\\n",
       "0        805  attack of the pig giants, giant pigs, illustra...  real   \n",
       "1        805  attack of the pig giants, giant pigs, illustra...  real   \n",
       "2        805  attack of the pig giants, giant pigs, illustra...  real   \n",
       "3        805  attack of the pig giants, giant pigs, illustra...  real   \n",
       "4        805  attack of the pig giants, giant pigs, illustra...  real   \n",
       "\n",
       "                    img_path  total_score  \\\n",
       "0       SDXL-Turbo/00805.png          NaN   \n",
       "1  Playground_v2.5/00805.png          NaN   \n",
       "2       Kandinsky3/00805.png          NaN   \n",
       "3     PixArt-Sigma/00805.png          NaN   \n",
       "4     PixArt-alpha/00805.png          NaN   \n",
       "\n",
       "                                       element_score  promt_meaningless  \\\n",
       "0  {'pig giants (animal)': None, 'attack (activit...                0.0   \n",
       "1  {'pig giants (animal)': None, 'attack (activit...                0.0   \n",
       "2  {'pig giants (animal)': None, 'attack (activit...                0.0   \n",
       "3  {'pig giants (animal)': None, 'attack (activit...                0.0   \n",
       "4  {'pig giants (animal)': None, 'attack (activit...                0.0   \n",
       "\n",
       "   split_confidence  attribute_confidence  fidelity_label  \n",
       "0          0.000000              0.333333             NaN  \n",
       "1          0.166667              0.166667             NaN  \n",
       "2          0.333333              0.333333             NaN  \n",
       "3          0.333333              0.000000             NaN  \n",
       "4          0.666667              0.333333             NaN  "
      ]
     },
     "execution_count": 11,
     "metadata": {},
     "output_type": "execute_result"
    }
   ],
   "source": [
    "import pandas as pd\n",
    "\n",
    "df = pd.read_json('./dataset/test.json')\n",
    "\n",
    "df.head()"
   ]
  },
  {
   "cell_type": "code",
   "execution_count": 12,
   "metadata": {},
   "outputs": [
    {
     "data": {
      "text/plain": [
       "(10796, 10)"
      ]
     },
     "execution_count": 12,
     "metadata": {},
     "output_type": "execute_result"
    }
   ],
   "source": [
    "df.shape"
   ]
  },
  {
   "cell_type": "markdown",
   "metadata": {},
   "source": [
    "According to the article, test set contains 500 real prompts and 500 generated.\n",
    "\n",
    "Real prompts sampled from DiffusionDB\n",
    "\n",
    "Synthetic prompts were generated by GPT-4"
   ]
  },
  {
   "cell_type": "code",
   "execution_count": 9,
   "metadata": {},
   "outputs": [
    {
     "data": {
      "text/plain": [
       "(989,)"
      ]
     },
     "execution_count": 9,
     "metadata": {},
     "output_type": "execute_result"
    }
   ],
   "source": [
    "df.prompt.unique().shape"
   ]
  },
  {
   "cell_type": "code",
   "execution_count": 10,
   "metadata": {},
   "outputs": [
    {
     "data": {
      "text/plain": [
       "array([\"attack of the pig giants, giant pigs, illustration, children's book, fictional drawing, bright colors, fantasy world, minimalist\",\n",
       "       'Forklift certification',\n",
       "       'enchanted forest with intricate details and tons of big trees. deep illumination and beautiful use of light and shadow to create a sense of depth and movement. using energetic brushwork and a limited color palette. light angle left at 1 0 degrees.',\n",
       "       'flowers in window very bright and colorful abstract',\n",
       "       'a recording of a liminal concrete pathway, straight concrete walls, arcs, indoors, white narrow windows, perspective, stretching to infinity, flooded with clear pool water, rays of sunlight, hazy, very detailed, realistic'],\n",
       "      dtype=object)"
      ]
     },
     "execution_count": 10,
     "metadata": {},
     "output_type": "execute_result"
    }
   ],
   "source": [
    "df.prompt.unique()[:5]"
   ]
  },
  {
   "cell_type": "code",
   "execution_count": 20,
   "metadata": {},
   "outputs": [
    {
     "data": {
      "text/plain": [
       "{'pig giants (animal)': None,\n",
       " 'attack (activity)': None,\n",
       " 'giant (attribute)': None,\n",
       " 'illustration (attribute)': None,\n",
       " \"children's book (object)\": None,\n",
       " 'fictional drawing (attribute)': None,\n",
       " 'bright colors (color)': None,\n",
       " 'fantasy world (location)': None,\n",
       " 'minimalist (attribute)': None}"
      ]
     },
     "execution_count": 20,
     "metadata": {},
     "output_type": "execute_result"
    }
   ],
   "source": [
    "df.element_score[0]"
   ]
  },
  {
   "cell_type": "code",
   "execution_count": 22,
   "metadata": {},
   "outputs": [],
   "source": [
    "with open('./dataset/prompts.txt', 'w') as f:\n",
    "    for line in df.prompt.unique():\n",
    "        f.write(line+'\\n')"
   ]
  },
  {
   "cell_type": "code",
   "execution_count": null,
   "metadata": {},
   "outputs": [],
   "source": []
  }
 ],
 "metadata": {
  "kernelspec": {
   "display_name": "Python 3",
   "language": "python",
   "name": "python3"
  },
  "language_info": {
   "codemirror_mode": {
    "name": "ipython",
    "version": 3
   },
   "file_extension": ".py",
   "mimetype": "text/x-python",
   "name": "python",
   "nbconvert_exporter": "python",
   "pygments_lexer": "ipython3",
   "version": "3.11.11"
  }
 },
 "nbformat": 4,
 "nbformat_minor": 2
}
